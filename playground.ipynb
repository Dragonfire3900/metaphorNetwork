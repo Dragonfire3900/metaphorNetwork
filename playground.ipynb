{
 "cells": [
  {
   "cell_type": "code",
   "execution_count": 74,
   "metadata": {},
   "outputs": [],
   "source": [
    "import networkx as nx"
   ]
  },
  {
   "cell_type": "code",
   "execution_count": 75,
   "metadata": {},
   "outputs": [],
   "source": [
    "net = {\n",
    "    \"Spring\": {\n",
    "        \"Fall\": {\n",
    "            \"weight\": 2\n",
    "        }\n",
    "    },\n",
    "    \"Fall\": {\n",
    "        \"Fall\": {\n",
    "            \"weight\": 0.5\n",
    "        },\n",
    "        \"Winter\": {\n",
    "            \"weight\": 1\n",
    "        }\n",
    "    },\n",
    "    \"Winter\": {\n",
    "        \"Fall\": {\n",
    "        }\n",
    "    }\n",
    "}"
   ]
  },
  {
   "cell_type": "code",
   "execution_count": 76,
   "metadata": {},
   "outputs": [],
   "source": [
    "g = nx.from_dict_of_dicts(net, nx.MultiDiGraph)"
   ]
  },
  {
   "cell_type": "code",
   "execution_count": 77,
   "metadata": {},
   "outputs": [
    {
     "name": "stdout",
     "output_type": "stream",
     "text": [
      "[0, 0, 0, 0]\n"
     ]
    }
   ],
   "source": [
    "# edges = nx.get_edge_attributes(g, \"weight\")\n",
    "edges = [g.get_edge_data(u, v).get(\"weight\", 0) for u, v in g.edges()]\n",
    "print(edges)"
   ]
  },
  {
   "cell_type": "code",
   "execution_count": 78,
   "metadata": {},
   "outputs": [
    {
     "data": {
      "text/plain": [
       "{'Spring': Text(-1.0, -0.3333333333333333, 'Spring'),\n",
       " 'Fall': Text(1.0, -0.3333333333333333, 'Fall'),\n",
       " 'Winter': Text(0.0, 0.6666666666666667, 'Winter')}"
      ]
     },
     "execution_count": 78,
     "metadata": {},
     "output_type": "execute_result"
    },
    {
     "data": {
      "image/png": "[encoded data removed]",
      "text/plain": [
       "<Figure size 640x480 with 1 Axes>"
      ]
     },
     "metadata": {},
     "output_type": "display_data"
    }
   ],
   "source": [
    "# edges = nx.get_edge_attributes(g, \"weight\")\n",
    "\n",
    "pos = nx.planar_layout(g)\n",
    "# nx.draw(g, pos=pos)\n",
    "nx.draw_networkx_edges(g, pos, width=edges)\n",
    "nx.draw_networkx_nodes(g, pos)\n",
    "nx.draw_networkx_labels(g, pos)"
   ]
  },
  {
   "cell_type": "code",
   "execution_count": null,
   "metadata": {},
   "outputs": [],
   "source": []
  }
 ],
 "metadata": {
  "kernelspec": {
   "display_name": "Python 3.10.7 ('venv': venv)",
   "language": "python",
   "name": "python3"
  },
  "language_info": {
   "codemirror_mode": {
    "name": "ipython",
    "version": 3
   },
   "file_extension": ".py",
   "mimetype": "text/x-python",
   "name": "python",
   "nbconvert_exporter": "python",
   "pygments_lexer": "ipython3",
   "version": "3.10.7"
  },
  "orig_nbformat": 4,
  "vscode": {
   "interpreter": {
    "hash": "637ad58367f7847bdb215dd92c7fa6782a6b45f5ced57fe71c26b4ca8b9b89a6"
   }
  }
 },
 "nbformat": 4,
 "nbformat_minor": 2
}
