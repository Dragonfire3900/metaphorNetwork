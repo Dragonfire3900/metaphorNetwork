{
 "cells": [
  {
   "cell_type": "code",
   "execution_count": 1,
   "metadata": {},
   "outputs": [],
   "source": [
    "from neo4j import GraphDatabase\n",
    "import re\n",
    "import nltk\n",
    "\n",
    "from typing import List"
   ]
  },
  {
   "cell_type": "code",
   "execution_count": 2,
   "metadata": {},
   "outputs": [],
   "source": [
    "driver = GraphDatabase.driver(\"bolt://172.30.48.1:7687/\",\n",
    "                              auth=(\"neo4j\", \"1234\"))\n",
    "driver.verify_connectivity()\n"
   ]
  },
  {
   "cell_type": "code",
   "execution_count": 3,
   "metadata": {},
   "outputs": [],
   "source": [
    "lmn = nltk.stem.WordNetLemmatizer()\n",
    "\n",
    "def addMetaWord(tx, first: str, connectedWords: List[str] = None):\n",
    "    if connectedWords is None:\n",
    "        tx.run(\"MERGE (a:Source {name: $source}) \"\n",
    "               \"MERGE (b:Word {word: $first}) \"\n",
    "               \"SET b :Meta \"\n",
    "               \"MERGE (a)<-[:Src]-(b) \", \n",
    "               source=\"VUA\", first=lmn.lemmatize(first))\n",
    "    else:\n",
    "        for sec in connectedWords:\n",
    "            tx.run(\"MERGE (a:Source {name: $source}) \"\n",
    "                   \"MERGE (b:Word {word: $first}) \"\n",
    "                   \"SET b :Meta \"\n",
    "                   \"MERGE (c:Word {word: $second}) \"\n",
    "                   \"SET c :Meta \"\n",
    "                   \"MERGE (a)-[:Src]->(b) \"\n",
    "                   \"MERGE (b)-[:META]-(c) \", \n",
    "                   source=\"VUA\", first=lmn.lemmatize(first), second=lmn.lemmatize(sec))"
   ]
  },
  {
   "cell_type": "code",
   "execution_count": 4,
   "metadata": {},
   "outputs": [],
   "source": [
    "delim = ','\n",
    "\n",
    "with open(\"./DeepMet/data/VUA/VUA_train_features2.csv\", \"r\") as f:\n",
    "    labelIdx = {}\n",
    "    for i, lbl in enumerate(f.readline().split(delim)):\n",
    "        if lbl in ['id']:\n",
    "            labelIdx[lbl.strip('\\n')] = i\n",
    "        else:\n",
    "            labelIdx[lbl.strip('\\n')] = i - 1\n",
    "    \n",
    "    count = 0\n",
    "    sections = {}\n",
    "\n",
    "    #Reading in the data\n",
    "    while ((data := f.readline())):\n",
    "        data = re.sub('\"[^\"]+\",', '', data).split(delim)\n",
    "\n",
    "        if data[labelIdx['label']] == '1':\n",
    "            if data[labelIdx['local']] not in sections:\n",
    "                sections[data[labelIdx['local']]] = []\n",
    "            if data[labelIdx['word']] not in sections[data[labelIdx['local']]]:\n",
    "                sections[data[labelIdx['local']]].append(data[labelIdx['word']])\n",
    "        count += 1\n",
    "    \n",
    "    #Adding it to the database\n",
    "    with driver.session(database='neo4j') as session:\n",
    "        for local, words in sections.items():\n",
    "            if len(words) == 1:\n",
    "                session.execute_write(addMetaWord, words[0])\n",
    "            else:\n",
    "                session.execute_write(addMetaWord, words[0], words[1:])\n"
   ]
  },
  {
   "cell_type": "code",
   "execution_count": null,
   "metadata": {},
   "outputs": [],
   "source": []
  }
 ],
 "metadata": {
  "kernelspec": {
   "display_name": "venv",
   "language": "python",
   "name": "python3"
  },
  "language_info": {
   "codemirror_mode": {
    "name": "ipython",
    "version": 3
   },
   "file_extension": ".py",
   "mimetype": "text/x-python",
   "name": "python",
   "nbconvert_exporter": "python",
   "pygments_lexer": "ipython3",
   "version": "3.8.10"
  },
  "orig_nbformat": 4,
  "vscode": {
   "interpreter": {
    "hash": "1b8270010b70e837fe0de46eb723365a1e31fb6fc612b58e66883d87b37b19d6"
   }
  }
 },
 "nbformat": 4,
 "nbformat_minor": 2
}
