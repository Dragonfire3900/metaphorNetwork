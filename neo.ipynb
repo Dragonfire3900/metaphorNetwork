{
 "cells": [
  {
   "cell_type": "code",
   "execution_count": 1,
   "metadata": {},
   "outputs": [],
   "source": [
    "from neo4j import GraphDatabase\n",
    "from typing import List\n",
    "import json"
   ]
  },
  {
   "cell_type": "code",
   "execution_count": 2,
   "metadata": {},
   "outputs": [
    {
     "ename": "KeyboardInterrupt",
     "evalue": "",
     "output_type": "error",
     "traceback": [
      "\u001b[0;31m---------------------------------------------------------------------------\u001b[0m",
      "\u001b[0;31mKeyboardInterrupt\u001b[0m                         Traceback (most recent call last)",
      "Cell \u001b[0;32mIn [2], line 3\u001b[0m\n\u001b[1;32m      1\u001b[0m driver \u001b[39m=\u001b[39m GraphDatabase\u001b[39m.\u001b[39mdriver(\u001b[39m\"\u001b[39m\u001b[39mbolt://172.31.128.1:7687/\u001b[39m\u001b[39m\"\u001b[39m,\n\u001b[1;32m      2\u001b[0m                               auth\u001b[39m=\u001b[39m(\u001b[39m\"\u001b[39m\u001b[39mneo4j\u001b[39m\u001b[39m\"\u001b[39m, \u001b[39m\"\u001b[39m\u001b[39m1234\u001b[39m\u001b[39m\"\u001b[39m))\n\u001b[0;32m----> 3\u001b[0m driver\u001b[39m.\u001b[39;49mverify_connectivity()\n",
      "File \u001b[0;32m~/Dev/metaphorNetwork/venv/lib/python3.8/site-packages/neo4j/_sync/driver.py:531\u001b[0m, in \u001b[0;36mDriver.verify_connectivity\u001b[0;34m(self, **config)\u001b[0m\n\u001b[1;32m    524\u001b[0m     experimental_warn(\n\u001b[1;32m    525\u001b[0m         \u001b[39m\"\u001b[39m\u001b[39mAll configuration key-word arguments to \u001b[39m\u001b[39m\"\u001b[39m\n\u001b[1;32m    526\u001b[0m         \u001b[39m\"\u001b[39m\u001b[39mverify_connectivity() are experimental. They might be \u001b[39m\u001b[39m\"\u001b[39m\n\u001b[1;32m    527\u001b[0m         \u001b[39m\"\u001b[39m\u001b[39mchanged or removed in any future version without prior \u001b[39m\u001b[39m\"\u001b[39m\n\u001b[1;32m    528\u001b[0m         \u001b[39m\"\u001b[39m\u001b[39mnotice.\u001b[39m\u001b[39m\"\u001b[39m\n\u001b[1;32m    529\u001b[0m     )\n\u001b[1;32m    530\u001b[0m \u001b[39mwith\u001b[39;00m \u001b[39mself\u001b[39m\u001b[39m.\u001b[39msession(\u001b[39m*\u001b[39m\u001b[39m*\u001b[39mconfig) \u001b[39mas\u001b[39;00m session:\n\u001b[0;32m--> 531\u001b[0m     session\u001b[39m.\u001b[39;49m_get_server_info()\n",
      "File \u001b[0;32m~/Dev/metaphorNetwork/venv/lib/python3.8/site-packages/neo4j/_sync/work/session.py:160\u001b[0m, in \u001b[0;36mSession._get_server_info\u001b[0;34m(self)\u001b[0m\n\u001b[1;32m    158\u001b[0m \u001b[39mdef\u001b[39;00m \u001b[39m_get_server_info\u001b[39m(\u001b[39mself\u001b[39m):\n\u001b[1;32m    159\u001b[0m     \u001b[39massert\u001b[39;00m \u001b[39mnot\u001b[39;00m \u001b[39mself\u001b[39m\u001b[39m.\u001b[39m_connection\n\u001b[0;32m--> 160\u001b[0m     \u001b[39mself\u001b[39;49m\u001b[39m.\u001b[39;49m_connect(READ_ACCESS, liveness_check_timeout\u001b[39m=\u001b[39;49m\u001b[39m0\u001b[39;49m)\n\u001b[1;32m    161\u001b[0m     server_info \u001b[39m=\u001b[39m \u001b[39mself\u001b[39m\u001b[39m.\u001b[39m_connection\u001b[39m.\u001b[39mserver_info\n\u001b[1;32m    162\u001b[0m     \u001b[39mself\u001b[39m\u001b[39m.\u001b[39m_disconnect()\n",
      "File \u001b[0;32m~/Dev/metaphorNetwork/venv/lib/python3.8/site-packages/neo4j/_sync/work/session.py:120\u001b[0m, in \u001b[0;36mSession._connect\u001b[0;34m(self, access_mode, **access_kwargs)\u001b[0m\n\u001b[1;32m    118\u001b[0m     access_mode \u001b[39m=\u001b[39m \u001b[39mself\u001b[39m\u001b[39m.\u001b[39m_config\u001b[39m.\u001b[39mdefault_access_mode\n\u001b[1;32m    119\u001b[0m \u001b[39mtry\u001b[39;00m:\n\u001b[0;32m--> 120\u001b[0m     \u001b[39msuper\u001b[39;49m()\u001b[39m.\u001b[39;49m_connect(access_mode, \u001b[39m*\u001b[39;49m\u001b[39m*\u001b[39;49maccess_kwargs)\n\u001b[1;32m    121\u001b[0m \u001b[39mexcept\u001b[39;00m asyncio\u001b[39m.\u001b[39mCancelledError:\n\u001b[1;32m    122\u001b[0m     \u001b[39mself\u001b[39m\u001b[39m.\u001b[39m_handle_cancellation(message\u001b[39m=\u001b[39m\u001b[39m\"\u001b[39m\u001b[39m_connect\u001b[39m\u001b[39m\"\u001b[39m)\n",
      "File \u001b[0;32m~/Dev/metaphorNetwork/venv/lib/python3.8/site-packages/neo4j/_sync/work/workspace.py:168\u001b[0m, in \u001b[0;36mWorkspace._connect\u001b[0;34m(self, access_mode, **acquire_kwargs)\u001b[0m\n\u001b[1;32m    160\u001b[0m acquire_kwargs_ \u001b[39m=\u001b[39m {\n\u001b[1;32m    161\u001b[0m     \u001b[39m\"\u001b[39m\u001b[39maccess_mode\u001b[39m\u001b[39m\"\u001b[39m: access_mode,\n\u001b[1;32m    162\u001b[0m     \u001b[39m\"\u001b[39m\u001b[39mtimeout\u001b[39m\u001b[39m\"\u001b[39m: acquisition_timeout,\n\u001b[0;32m   (...)\u001b[0m\n\u001b[1;32m    165\u001b[0m     \u001b[39m\"\u001b[39m\u001b[39mliveness_check_timeout\u001b[39m\u001b[39m\"\u001b[39m: \u001b[39mNone\u001b[39;00m,\n\u001b[1;32m    166\u001b[0m }\n\u001b[1;32m    167\u001b[0m acquire_kwargs_\u001b[39m.\u001b[39mupdate(acquire_kwargs)\n\u001b[0;32m--> 168\u001b[0m \u001b[39mself\u001b[39m\u001b[39m.\u001b[39m_connection \u001b[39m=\u001b[39m \u001b[39mself\u001b[39;49m\u001b[39m.\u001b[39;49m_pool\u001b[39m.\u001b[39;49macquire(\u001b[39m*\u001b[39;49m\u001b[39m*\u001b[39;49macquire_kwargs_)\n\u001b[1;32m    169\u001b[0m \u001b[39mself\u001b[39m\u001b[39m.\u001b[39m_connection_access_mode \u001b[39m=\u001b[39m access_mode\n",
      "File \u001b[0;32m~/Dev/metaphorNetwork/venv/lib/python3.8/site-packages/neo4j/_sync/io/_pool.py:411\u001b[0m, in \u001b[0;36mBoltPool.acquire\u001b[0;34m(self, access_mode, timeout, database, bookmarks, liveness_check_timeout)\u001b[0m\n\u001b[1;32m    408\u001b[0m log\u001b[39m.\u001b[39mdebug(\u001b[39m\"\u001b[39m\u001b[39m[#0000]  _: <POOL> acquire direct connection, \u001b[39m\u001b[39m\"\u001b[39m\n\u001b[1;32m    409\u001b[0m           \u001b[39m\"\u001b[39m\u001b[39maccess_mode=\u001b[39m\u001b[39m%r\u001b[39;00m\u001b[39m, database=\u001b[39m\u001b[39m%r\u001b[39;00m\u001b[39m\"\u001b[39m, access_mode, database)\n\u001b[1;32m    410\u001b[0m deadline \u001b[39m=\u001b[39m Deadline\u001b[39m.\u001b[39mfrom_timeout_or_deadline(timeout)\n\u001b[0;32m--> 411\u001b[0m \u001b[39mreturn\u001b[39;00m \u001b[39mself\u001b[39;49m\u001b[39m.\u001b[39;49m_acquire(\n\u001b[1;32m    412\u001b[0m     \u001b[39mself\u001b[39;49m\u001b[39m.\u001b[39;49maddress, deadline, liveness_check_timeout\n\u001b[1;32m    413\u001b[0m )\n",
      "File \u001b[0;32m~/Dev/metaphorNetwork/venv/lib/python3.8/site-packages/neo4j/_sync/io/_pool.py:221\u001b[0m, in \u001b[0;36mIOPool._acquire\u001b[0;34m(self, address, deadline, liveness_check_timeout)\u001b[0m\n\u001b[1;32m    216\u001b[0m             \u001b[39mraise\u001b[39;00m ClientError(\n\u001b[1;32m    217\u001b[0m                 \u001b[39m\"\u001b[39m\u001b[39mfailed to obtain a connection from the pool within \u001b[39m\u001b[39m\"\u001b[39m\n\u001b[1;32m    218\u001b[0m                 \u001b[39m\"\u001b[39m\u001b[39m{!r}\u001b[39;00m\u001b[39ms (timeout)\u001b[39m\u001b[39m\"\u001b[39m\u001b[39m.\u001b[39mformat(deadline\u001b[39m.\u001b[39moriginal_timeout)\n\u001b[1;32m    219\u001b[0m             )\n\u001b[1;32m    220\u001b[0m log\u001b[39m.\u001b[39mdebug(\u001b[39m\"\u001b[39m\u001b[39m[#0000]  _: <POOL> trying to hand out new connection\u001b[39m\u001b[39m\"\u001b[39m)\n\u001b[0;32m--> 221\u001b[0m \u001b[39mreturn\u001b[39;00m connection_creator()\n",
      "File \u001b[0;32m~/Dev/metaphorNetwork/venv/lib/python3.8/site-packages/neo4j/_sync/io/_pool.py:138\u001b[0m, in \u001b[0;36mIOPool._acquire_new_later.<locals>.connection_creator\u001b[0;34m()\u001b[0m\n\u001b[1;32m    136\u001b[0m \u001b[39mtry\u001b[39;00m:\n\u001b[1;32m    137\u001b[0m     \u001b[39mtry\u001b[39;00m:\n\u001b[0;32m--> 138\u001b[0m         connection \u001b[39m=\u001b[39m \u001b[39mself\u001b[39;49m\u001b[39m.\u001b[39;49mopener(\n\u001b[1;32m    139\u001b[0m             address, deadline\u001b[39m.\u001b[39;49mto_timeout()\n\u001b[1;32m    140\u001b[0m         )\n\u001b[1;32m    141\u001b[0m     \u001b[39mexcept\u001b[39;00m ServiceUnavailable:\n\u001b[1;32m    142\u001b[0m         \u001b[39mself\u001b[39m\u001b[39m.\u001b[39mdeactivate(address)\n",
      "File \u001b[0;32m~/Dev/metaphorNetwork/venv/lib/python3.8/site-packages/neo4j/_sync/io/_pool.py:386\u001b[0m, in \u001b[0;36mBoltPool.open.<locals>.opener\u001b[0;34m(addr, timeout)\u001b[0m\n\u001b[1;32m    385\u001b[0m \u001b[39mdef\u001b[39;00m \u001b[39mopener\u001b[39m(addr, timeout):\n\u001b[0;32m--> 386\u001b[0m     \u001b[39mreturn\u001b[39;00m Bolt\u001b[39m.\u001b[39;49mopen(\n\u001b[1;32m    387\u001b[0m         addr, auth\u001b[39m=\u001b[39;49mauth, timeout\u001b[39m=\u001b[39;49mtimeout, routing_context\u001b[39m=\u001b[39;49m\u001b[39mNone\u001b[39;49;00m,\n\u001b[1;32m    388\u001b[0m         pool_config\u001b[39m=\u001b[39;49mpool_config\n\u001b[1;32m    389\u001b[0m     )\n",
      "File \u001b[0;32m~/Dev/metaphorNetwork/venv/lib/python3.8/site-packages/neo4j/_sync/io/_bolt.py:322\u001b[0m, in \u001b[0;36mBolt.open\u001b[0;34m(cls, address, auth, timeout, routing_context, pool_config)\u001b[0m\n\u001b[1;32m    318\u001b[0m \u001b[39melif\u001b[39;00m timeout \u001b[39mis\u001b[39;00m \u001b[39mnot\u001b[39;00m \u001b[39mNone\u001b[39;00m:\n\u001b[1;32m    319\u001b[0m     socket_connection_timeout \u001b[39m=\u001b[39m \u001b[39mmin\u001b[39m(pool_config\u001b[39m.\u001b[39mconnection_timeout,\n\u001b[1;32m    320\u001b[0m                                     time_remaining())\n\u001b[1;32m    321\u001b[0m s, pool_config\u001b[39m.\u001b[39mprotocol_version, handshake, data \u001b[39m=\u001b[39m \\\n\u001b[0;32m--> 322\u001b[0m     BoltSocket\u001b[39m.\u001b[39;49mconnect(\n\u001b[1;32m    323\u001b[0m         address,\n\u001b[1;32m    324\u001b[0m         timeout\u001b[39m=\u001b[39;49msocket_connection_timeout,\n\u001b[1;32m    325\u001b[0m         custom_resolver\u001b[39m=\u001b[39;49mpool_config\u001b[39m.\u001b[39;49mresolver,\n\u001b[1;32m    326\u001b[0m         ssl_context\u001b[39m=\u001b[39;49mpool_config\u001b[39m.\u001b[39;49mget_ssl_context(),\n\u001b[1;32m    327\u001b[0m         keep_alive\u001b[39m=\u001b[39;49mpool_config\u001b[39m.\u001b[39;49mkeep_alive,\n\u001b[1;32m    328\u001b[0m     )\n\u001b[1;32m    330\u001b[0m \u001b[39m# Carry out Bolt subclass imports locally to avoid circular dependency\u001b[39;00m\n\u001b[1;32m    331\u001b[0m \u001b[39m# issues.\u001b[39;00m\n\u001b[1;32m    332\u001b[0m \u001b[39mif\u001b[39;00m pool_config\u001b[39m.\u001b[39mprotocol_version \u001b[39m==\u001b[39m (\u001b[39m3\u001b[39m, \u001b[39m0\u001b[39m):\n",
      "File \u001b[0;32m~/Dev/metaphorNetwork/venv/lib/python3.8/site-packages/neo4j/_async_compat/network/_bolt_socket.py:652\u001b[0m, in \u001b[0;36mBoltSocket.connect\u001b[0;34m(cls, address, timeout, custom_resolver, ssl_context, keep_alive)\u001b[0m\n\u001b[1;32m    650\u001b[0m s \u001b[39m=\u001b[39m \u001b[39mNone\u001b[39;00m\n\u001b[1;32m    651\u001b[0m \u001b[39mtry\u001b[39;00m:\n\u001b[0;32m--> 652\u001b[0m     s \u001b[39m=\u001b[39m BoltSocket\u001b[39m.\u001b[39;49m_connect(resolved_address, timeout, keep_alive)\n\u001b[1;32m    653\u001b[0m     s \u001b[39m=\u001b[39m BoltSocket\u001b[39m.\u001b[39m_secure(s, resolved_address\u001b[39m.\u001b[39mhost_name,\n\u001b[1;32m    654\u001b[0m                            ssl_context)\n\u001b[1;32m    655\u001b[0m     \u001b[39mreturn\u001b[39;00m BoltSocket\u001b[39m.\u001b[39m_handshake(s, resolved_address)\n",
      "File \u001b[0;32m~/Dev/metaphorNetwork/venv/lib/python3.8/site-packages/neo4j/_async_compat/network/_bolt_socket.py:507\u001b[0m, in \u001b[0;36mBoltSocket._connect\u001b[0;34m(cls, resolved_address, timeout, keep_alive)\u001b[0m\n\u001b[1;32m    505\u001b[0m     s\u001b[39m.\u001b[39msettimeout(timeout)\n\u001b[1;32m    506\u001b[0m log\u001b[39m.\u001b[39mdebug(\u001b[39m\"\u001b[39m\u001b[39m[#0000]  C: <OPEN> \u001b[39m\u001b[39m%s\u001b[39;00m\u001b[39m\"\u001b[39m, resolved_address)\n\u001b[0;32m--> 507\u001b[0m s\u001b[39m.\u001b[39;49mconnect(resolved_address)\n\u001b[1;32m    508\u001b[0m s\u001b[39m.\u001b[39msettimeout(t)\n\u001b[1;32m    509\u001b[0m keep_alive \u001b[39m=\u001b[39m \u001b[39m1\u001b[39m \u001b[39mif\u001b[39;00m keep_alive \u001b[39melse\u001b[39;00m \u001b[39m0\u001b[39m\n",
      "\u001b[0;31mKeyboardInterrupt\u001b[0m: "
     ]
    }
   ],
   "source": [
    "driver = GraphDatabase.driver(\"bolt://172.31.128.1:7687/\",\n",
    "                              auth=(\"neo4j\", \"1234\"))\n",
    "driver.verify_connectivity()\n"
   ]
  },
  {
   "cell_type": "code",
   "execution_count": null,
   "metadata": {},
   "outputs": [],
   "source": [
    "def read_words(dir: str, word: str) -> dict:\n",
    "    with open(dir + f\"/synonyms/{word}.json\", 'r', encoding='utf-8') as f:\n",
    "        rawdata: dict = json.load(f)\n",
    "\n",
    "    with open(dir + f\"/weights/{word}.json\", 'r', encoding='utf-8') as f:\n",
    "        weights: dict = json.load(f)\n",
    "\n",
    "    dbData = {}\n",
    "\n",
    "    for key, syns in rawdata.items():\n",
    "        validSyn = []\n",
    "        validWeight = []\n",
    "        for syn in syns:\n",
    "            if f'{key}+{syn}' in weights:\n",
    "                validSyn.append(syn)\n",
    "                validWeight.append(weights[f'{key}+{syn}'])\n",
    "        dbData[key] = [validSyn, validWeight]\n",
    "    return dbData\n",
    "\n",
    "def add_words(tx, first: str, sec: List[str], similarity: float):\n",
    "    for second, sim in zip(sec, similarity):\n",
    "        tx.run(\"MERGE (a:Word {word: $first}) \"\n",
    "                \"MERGE (b:Word {word: $second})\"\n",
    "                \"MERGE (a)-[:SYN {sim: $sim}]->(b)\", first=first, second=second, sim=sim)\n",
    "\n",
    "with driver.session(database=\"neo4j\") as session:\n",
    "    dbData = read_words('./data/crawlers/hugelabs/', 'surge')\n",
    "    for key, (synList, synWeight) in dbData.items():\n",
    "        session.execute_write(add_words, key, synList, synWeight)\n",
    "\n",
    "driver.close()"
   ]
  },
  {
   "cell_type": "code",
   "execution_count": null,
   "metadata": {},
   "outputs": [],
   "source": []
  }
 ],
 "metadata": {
  "kernelspec": {
   "display_name": "Python 3.8.10 ('venv': venv)",
   "language": "python",
   "name": "python3"
  },
  "language_info": {
   "codemirror_mode": {
    "name": "ipython",
    "version": 3
   },
   "file_extension": ".py",
   "mimetype": "text/x-python",
   "name": "python",
   "nbconvert_exporter": "python",
   "pygments_lexer": "ipython3",
   "version": "3.8.10"
  },
  "orig_nbformat": 4,
  "vscode": {
   "interpreter": {
    "hash": "1b8270010b70e837fe0de46eb723365a1e31fb6fc612b58e66883d87b37b19d6"
   }
  }
 },
 "nbformat": 4,
 "nbformat_minor": 2
}
