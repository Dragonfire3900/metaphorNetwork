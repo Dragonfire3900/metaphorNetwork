{
 "cells": [
  {
   "cell_type": "code",
   "execution_count": 16,
   "metadata": {},
   "outputs": [],
   "source": [
    "import xml.etree.ElementTree as ET\n",
    "import nltk\n",
    "import re\n",
    "from dataclasses import dataclass\n",
    "from typing import List"
   ]
  },
  {
   "cell_type": "code",
   "execution_count": 45,
   "metadata": {},
   "outputs": [],
   "source": [
    "@dataclass\n",
    "class metaphorSentance:\n",
    "    sent: str\n",
    "    metaIdx: int\n",
    "    punc: str = \".,!?;“”\"\n",
    "\n",
    "    def posTag(self) -> str:\n",
    "        def puncSwap(char: str, pos: str):\n",
    "            if char in self.punc:\n",
    "                return 'PUN'\n",
    "            else:\n",
    "                return pos\n",
    "\n",
    "        return list(map(lambda x: (x[0], puncSwap(x[0], x[1])), \\\n",
    "            nltk.pos_tag(nltk.word_tokenize(self.sent))))\n",
    "\n",
    "    def lemmatize(self) -> str:\n",
    "        lmn = nltk.stem.WordNetLemmatizer()\n",
    "\n",
    "        wordnetConv = {\n",
    "            'J': 'a',\n",
    "            'V': 'v',\n",
    "            'N': 'n',\n",
    "            'R': 'r'\n",
    "        }\n",
    "\n",
    "        return map(lambda x: lmn.lemmatize(x[0], wordnetConv.get(x[1][0], 'n')), self.posTag())\n",
    "\n",
    "    def split(self, string: str, delim = ' '):\n",
    "        return re.findall(rf\"[\\w']+|[{self.punc}]\", string)\n",
    "\n",
    "    def __iter__(self):\n",
    "        posTags = self.posTag()\n",
    "        lemmas = self.lemmatize()\n",
    "        for idx, ((org, tag), lemma) in enumerate(zip(posTags, lemmas)):\n",
    "            yield idx in self.metaIdx, org, tag, lemma\n",
    "\n"
   ]
  },
  {
   "cell_type": "code",
   "execution_count": 50,
   "metadata": {},
   "outputs": [],
   "source": [
    "dir = './DeepMet/data/VUA/raw/'\n",
    "\n",
    "data = {\n",
    "    \"Obama-waterMeta\": {\n",
    "        \"name\": \"art1\",\n",
    "        \"type\": \"article\",\n",
    "        \"data\": [\n",
    "            metaphorSentance(\n",
    "                \"President Obama urged Congress on Tuesday to quickly provide almost $4 billion \\\n",
    "                to confront a surge of young migrants from Central America crossing the border into \\\n",
    "                Texas, calling it “an urgent humanitarian situation.”\",\n",
    "                [15, 18]\n",
    "            ),\n",
    "            metaphorSentance(\n",
    "                \"The president said he needed the money to set up new detention facilities, \\\n",
    "                conduct more aerial surveillance and hire immigration judges and Border \\\n",
    "                Patrol agents to respond to the flood of 52,000 children.\",\n",
    "                [30, 35]\n",
    "            ),\n",
    "            metaphorSentance(\n",
    "                \"Their sudden mass migration has overwhelmed local resources and touched off protests from residents angry about the impact on the local economy.\",\n",
    "                [3, 5]\n",
    "            ),\n",
    "            metaphorSentance(\n",
    "                \"In a letter to congressional leaders, Mr. Obama urged them to “act expeditiously” on his request.\",\n",
    "                []\n",
    "            )\n",
    "        ]\n",
    "    },\n",
    "}"
   ]
  },
  {
   "cell_type": "code",
   "execution_count": 52,
   "metadata": {},
   "outputs": [],
   "source": [
    "start = ET.Element('group')\n",
    "for key in data:\n",
    "    child = ET.SubElement(start, 'text', {'xmlns': '', 'xml:id': key})\n",
    "    child = ET.SubElement(child, 'body')\n",
    "    child = ET.SubElement(child, 'div1', {'n': data[key]['name']})\n",
    "    child = ET.SubElement(child, 'head', {'type': data[key]['type']})\n",
    "    for idx, sent in enumerate(data[key]['data']):\n",
    "        sentEt = ET.SubElement(child, 's', {'n': str(idx + 1)})\n",
    "        for meta, orig, tag, lemma in sent:\n",
    "            if tag == 'PUN':\n",
    "                word = ET.SubElement(sentEt, 'c', {'type': tag})\n",
    "                word.text = orig\n",
    "                continue\n",
    "\n",
    "            word = ET.SubElement(sentEt, 'w', {'lemma': lemma, 'type': tag})\n",
    "\n",
    "            if meta:\n",
    "                word = ET.SubElement(word, 'seg', {'function': 'mrw', 'type': 'met', 'vici:morph':'n'})\n",
    "                word.text = orig\n",
    "            else:\n",
    "                word.text = orig\n",
    "            \n"
   ]
  },
  {
   "cell_type": "code",
   "execution_count": 53,
   "metadata": {},
   "outputs": [
    {
     "data": {
      "text/plain": [
       "b'<group><text xmlns=\"\" xml:id=\"Obama-waterMeta\"><body><div1 n=\"art1\"><head type=\"article\"><s n=\"1\"><w lemma=\"President\" type=\"NNP\">President</w><w lemma=\"Obama\" type=\"NNP\">Obama</w><w lemma=\"urge\" type=\"VBD\">urged</w><w lemma=\"Congress\" type=\"NNP\">Congress</w><w lemma=\"on\" type=\"IN\">on</w><w lemma=\"Tuesday\" type=\"NNP\">Tuesday</w><w lemma=\"to\" type=\"TO\">to</w><w lemma=\"quickly\" type=\"RB\">quickly</w><w lemma=\"provide\" type=\"VB\">provide</w><w lemma=\"almost\" type=\"RB\">almost</w><w lemma=\"$\" type=\"$\">$</w><w lemma=\"4\" type=\"CD\">4</w><w lemma=\"billion\" type=\"CD\">billion</w><w lemma=\"to\" type=\"TO\">to</w><w lemma=\"confront\" type=\"VB\">confront</w><w lemma=\"a\" type=\"DT\"><seg function=\"mrw\" type=\"met\" vici:morph=\"n\">a</seg></w><w lemma=\"surge\" type=\"NN\">surge</w><w lemma=\"of\" type=\"IN\">of</w><w lemma=\"young\" type=\"JJ\"><seg function=\"mrw\" type=\"met\" vici:morph=\"n\">young</seg></w><w lemma=\"migrant\" type=\"NNS\">migrants</w><w lemma=\"from\" type=\"IN\">from</w><w lemma=\"Central\" type=\"NNP\">Central</w><w lemma=\"America\" type=\"NNP\">America</w><w lemma=\"cross\" type=\"VBG\">crossing</w><w lemma=\"the\" type=\"DT\">the</w><w lemma=\"border\" type=\"NN\">border</w><w lemma=\"into\" type=\"IN\">into</w><w lemma=\"Texas\" type=\"NNP\">Texas</w><c type=\"PUN\">,</c><w lemma=\"call\" type=\"VBG\">calling</w><w lemma=\"it\" type=\"PRP\">it</w><c type=\"PUN\">&#8220;</c><w lemma=\"an\" type=\"DT\">an</w><w lemma=\"urgent\" type=\"JJ\">urgent</w><w lemma=\"humanitarian\" type=\"JJ\">humanitarian</w><w lemma=\"situation\" type=\"NN\">situation</w><c type=\"PUN\">.</c><c type=\"PUN\">&#8221;</c></s><s n=\"2\"><w lemma=\"The\" type=\"DT\">The</w><w lemma=\"president\" type=\"NN\">president</w><w lemma=\"say\" type=\"VBD\">said</w><w lemma=\"he\" type=\"PRP\">he</w><w lemma=\"need\" type=\"VBD\">needed</w><w lemma=\"the\" type=\"DT\">the</w><w lemma=\"money\" type=\"NN\">money</w><w lemma=\"to\" type=\"TO\">to</w><w lemma=\"set\" type=\"VB\">set</w><w lemma=\"up\" type=\"RP\">up</w><w lemma=\"new\" type=\"JJ\">new</w><w lemma=\"detention\" type=\"NN\">detention</w><w lemma=\"facility\" type=\"NNS\">facilities</w><c type=\"PUN\">,</c><w lemma=\"conduct\" type=\"VBP\">conduct</w><w lemma=\"more\" type=\"RBR\">more</w><w lemma=\"aerial\" type=\"JJ\">aerial</w><w lemma=\"surveillance\" type=\"NN\">surveillance</w><w lemma=\"and\" type=\"CC\">and</w><w lemma=\"hire\" type=\"NN\">hire</w><w lemma=\"immigration\" type=\"NN\">immigration</w><w lemma=\"judge\" type=\"NNS\">judges</w><w lemma=\"and\" type=\"CC\">and</w><w lemma=\"Border\" type=\"NNP\">Border</w><w lemma=\"Patrol\" type=\"NNP\">Patrol</w><w lemma=\"agent\" type=\"NNS\">agents</w><w lemma=\"to\" type=\"TO\">to</w><w lemma=\"respond\" type=\"VB\">respond</w><w lemma=\"to\" type=\"TO\">to</w><w lemma=\"the\" type=\"DT\">the</w><w lemma=\"flood\" type=\"NN\"><seg function=\"mrw\" type=\"met\" vici:morph=\"n\">flood</seg></w><w lemma=\"of\" type=\"IN\">of</w><w lemma=\"52,000\" type=\"CD\">52,000</w><w lemma=\"child\" type=\"NNS\">children</w><c type=\"PUN\">.</c></s><s n=\"3\"><w lemma=\"Their\" type=\"PRP$\">Their</w><w lemma=\"sudden\" type=\"JJ\">sudden</w><w lemma=\"mass\" type=\"NN\">mass</w><w lemma=\"migration\" type=\"NN\"><seg function=\"mrw\" type=\"met\" vici:morph=\"n\">migration</seg></w><w lemma=\"have\" type=\"VBZ\">has</w><w lemma=\"overwhelm\" type=\"VBN\"><seg function=\"mrw\" type=\"met\" vici:morph=\"n\">overwhelmed</seg></w><w lemma=\"local\" type=\"JJ\">local</w><w lemma=\"resource\" type=\"NNS\">resources</w><w lemma=\"and\" type=\"CC\">and</w><w lemma=\"touch\" type=\"VBD\">touched</w><w lemma=\"off\" type=\"RP\">off</w><w lemma=\"protest\" type=\"NNS\">protests</w><w lemma=\"from\" type=\"IN\">from</w><w lemma=\"resident\" type=\"NNS\">residents</w><w lemma=\"angry\" type=\"JJ\">angry</w><w lemma=\"about\" type=\"IN\">about</w><w lemma=\"the\" type=\"DT\">the</w><w lemma=\"impact\" type=\"NN\">impact</w><w lemma=\"on\" type=\"IN\">on</w><w lemma=\"the\" type=\"DT\">the</w><w lemma=\"local\" type=\"JJ\">local</w><w lemma=\"economy\" type=\"NN\">economy</w><c type=\"PUN\">.</c></s><s n=\"4\"><w lemma=\"In\" type=\"IN\">In</w><w lemma=\"a\" type=\"DT\">a</w><w lemma=\"letter\" type=\"NN\">letter</w><w lemma=\"to\" type=\"TO\">to</w><w lemma=\"congressional\" type=\"JJ\">congressional</w><w lemma=\"leader\" type=\"NNS\">leaders</w><c type=\"PUN\">,</c><w lemma=\"Mr.\" type=\"NNP\">Mr.</w><w lemma=\"Obama\" type=\"NNP\">Obama</w><w lemma=\"urge\" type=\"VBD\">urged</w><w lemma=\"them\" type=\"PRP\">them</w><w lemma=\"to\" type=\"TO\">to</w><c type=\"PUN\">&#8220;</c><w lemma=\"act\" type=\"NN\">act</w><w lemma=\"expeditiously\" type=\"RB\">expeditiously</w><c type=\"PUN\">&#8221;</c><w lemma=\"on\" type=\"IN\">on</w><w lemma=\"his\" type=\"PRP$\">his</w><w lemma=\"request\" type=\"NN\">request</w><c type=\"PUN\">.</c></s></head></div1></body></text></group>'"
      ]
     },
     "execution_count": 53,
     "metadata": {},
     "output_type": "execute_result"
    }
   ],
   "source": [
    "ET.tostring(start)"
   ]
  },
  {
   "cell_type": "code",
   "execution_count": null,
   "metadata": {},
   "outputs": [],
   "source": []
  }
 ],
 "metadata": {
  "kernelspec": {
   "display_name": "Python 3.8.10 ('venv': venv)",
   "language": "python",
   "name": "python3"
  },
  "language_info": {
   "codemirror_mode": {
    "name": "ipython",
    "version": 3
   },
   "file_extension": ".py",
   "mimetype": "text/x-python",
   "name": "python",
   "nbconvert_exporter": "python",
   "pygments_lexer": "ipython3",
   "version": "3.8.10"
  },
  "orig_nbformat": 4,
  "vscode": {
   "interpreter": {
    "hash": "1b8270010b70e837fe0de46eb723365a1e31fb6fc612b58e66883d87b37b19d6"
   }
  }
 },
 "nbformat": 4,
 "nbformat_minor": 2
}
