{
 "cells": [
  {
   "cell_type": "code",
   "execution_count": 4,
   "metadata": {},
   "outputs": [],
   "source": [
    "import xml.etree.ElementTree as ET\n",
    "import re\n",
    "from dataclasses import dataclass\n",
    "from typing import List"
   ]
  },
  {
   "cell_type": "code",
   "execution_count": 8,
   "metadata": {},
   "outputs": [],
   "source": [
    "@dataclass\n",
    "class metaphorSentance:\n",
    "    sent: str\n",
    "    pos: str\n",
    "    metaIdx: int\n",
    "    punc: str = \".,!?;“”\"\n",
    "\n",
    "    def split(self, string: str, delim = ' '):\n",
    "        return re.findall(rf\"[\\w']+|[{self.punc}]\", string)\n",
    "\n",
    "    def __iter__(self):\n",
    "        sentSplit = self.split(self.sent)\n",
    "        posSplit = self.split(self.pos)\n",
    "        assert len(posSplit) == len(sentSplit)\n",
    "        for idx, item in enumerate(sentSplit):\n",
    "            yield idx in self.metaIdx, item, posSplit[idx]\n",
    "\n"
   ]
  },
  {
   "cell_type": "code",
   "execution_count": 14,
   "metadata": {},
   "outputs": [],
   "source": [
    "dir = './DeepMet/data/VUA/raw/'\n",
    "\n",
    "data = {\n",
    "    \"Obama-waterMeta\": {\n",
    "        \"name\": \"art1\",\n",
    "        \"data\": [\n",
    "            metaphorSentance(\n",
    "                \"President Obama urged Congress on Tuesday to quickly provide almost $4 billion \\\n",
    "                to confront a surge of young migrants from Central America crossing the border into \\\n",
    "                Texas, calling it “an urgent humanitarian situation.”\",\n",
    "                \"ADJ NN1 VRB PROPN PRP PROP PRP AUX VRB QT QT NN1 PRP VRB X AUX PRP ADJ NN1 PRP ADJ NN1 VRB X NN1 PRP PRON PUNC VRB PRON PUNC X ADJ ADJ NN1 PUNC PUNC\",\n",
    "                [15, 18]\n",
    "            ),\n",
    "            metaphorSentance(\n",
    "                \"The president said he needed the money to set up new detention facilities, \\\n",
    "                conduct more aerial surveillance and hire immigration judges and Border \\\n",
    "                Patrol agents to respond to the flood of 52,000 children.\"\n",
    "                \"X PROPN VRB PRON AUX X NN1 PROP VRB PROP ADJ ADJ NN1 PUNC VRB ADJ ADJ VRB CONJ VRB ADJ NN1 CONJ ADJ ADJ NN1 PROP VRB PROP X VRB PROP NN1 PUNC NN1 NN1\",\n",
    "                [30, 35]\n",
    "            ),\n",
    "            metaphorSentance(\n",
    "                \"Their sudden mass migration has overwhelmed local resources and touched off protests from residents angry about the impact on the local economy.\",\n",
    "                \"PROPN ADV ADV VRB AUX VRB ADJ NN1 CONJ VRB PROP VRB PROP NN1 ADJ PROP X VRB PROP X ADJ NN1\",\n",
    "                [3, 5]\n",
    "            ),\n",
    "            metaphorSentance(\n",
    "                \"In a letter to congressional leaders, Mr. Obama urged them to “act expeditiously” on his request.\",\n",
    "                \"\",\n",
    "                []\n",
    "            )\n",
    "        ]\n",
    "    },\n",
    "    \"Deport-waterMeta\": {\n",
    "        \"name\": \"art2\",\n",
    "        \"data\": [\n",
    "            metaphorSentance(\n",
    "                \"\",\n",
    "                \"\",\n",
    "                []\n",
    "            ),\n",
    "            metaphorSentance(\n",
    "                \"\",\n",
    "                \"\",\n",
    "                []\n",
    "            ),\n",
    "            metaphorSentance(\n",
    "                \"\",\n",
    "                \"\",\n",
    "                []\n",
    "            ),\n",
    "            metaphorSentance(\n",
    "                \"\",\n",
    "                \"\",\n",
    "                []\n",
    "            )\n",
    "        ]\n",
    "    }\n",
    "}"
   ]
  },
  {
   "cell_type": "code",
   "execution_count": 15,
   "metadata": {},
   "outputs": [
    {
     "name": "stdout",
     "output_type": "stream",
     "text": [
      "Word: President, is metaphor: False, part of speech: ADJ\n",
      "Word: Obama, is metaphor: False, part of speech: NN1\n",
      "Word: urged, is metaphor: False, part of speech: VRB\n",
      "Word: Congress, is metaphor: False, part of speech: PROPN\n",
      "Word: on, is metaphor: False, part of speech: PRP\n",
      "Word: Tuesday, is metaphor: False, part of speech: PROP\n",
      "Word: to, is metaphor: False, part of speech: PRP\n",
      "Word: quickly, is metaphor: False, part of speech: AUX\n",
      "Word: provide, is metaphor: False, part of speech: VRB\n",
      "Word: almost, is metaphor: False, part of speech: QT\n",
      "Word: 4, is metaphor: False, part of speech: QT\n",
      "Word: billion, is metaphor: False, part of speech: NN1\n",
      "Word: to, is metaphor: False, part of speech: PRP\n",
      "Word: confront, is metaphor: False, part of speech: VRB\n",
      "Word: a, is metaphor: False, part of speech: X\n",
      "Word: surge, is metaphor: True, part of speech: AUX\n",
      "Word: of, is metaphor: False, part of speech: PRP\n",
      "Word: young, is metaphor: False, part of speech: ADJ\n",
      "Word: migrants, is metaphor: True, part of speech: NN1\n",
      "Word: from, is metaphor: False, part of speech: PRP\n",
      "Word: Central, is metaphor: False, part of speech: ADJ\n",
      "Word: America, is metaphor: False, part of speech: NN1\n",
      "Word: crossing, is metaphor: False, part of speech: VRB\n",
      "Word: the, is metaphor: False, part of speech: X\n",
      "Word: border, is metaphor: False, part of speech: NN1\n",
      "Word: into, is metaphor: False, part of speech: PRP\n",
      "Word: Texas, is metaphor: False, part of speech: PRON\n",
      "Word: ,, is metaphor: False, part of speech: PUNC\n",
      "Word: calling, is metaphor: False, part of speech: VRB\n",
      "Word: it, is metaphor: False, part of speech: PRON\n",
      "Word: “, is metaphor: False, part of speech: PUNC\n",
      "Word: an, is metaphor: False, part of speech: X\n",
      "Word: urgent, is metaphor: False, part of speech: ADJ\n",
      "Word: humanitarian, is metaphor: False, part of speech: ADJ\n",
      "Word: situation, is metaphor: False, part of speech: NN1\n",
      "Word: ., is metaphor: False, part of speech: PUNC\n",
      "Word: ”, is metaphor: False, part of speech: PUNC\n"
     ]
    }
   ],
   "source": [
    "for meta, word, pos in data[\"waterMeta\"][\"data\"][0]:\n",
    "    print(f'Word: {word}, is metaphor: {meta}, part of speech: {pos}')"
   ]
  },
  {
   "cell_type": "code",
   "execution_count": null,
   "metadata": {},
   "outputs": [],
   "source": []
  }
 ],
 "metadata": {
  "kernelspec": {
   "display_name": "Python 3.8.10 ('venv': venv)",
   "language": "python",
   "name": "python3"
  },
  "language_info": {
   "codemirror_mode": {
    "name": "ipython",
    "version": 3
   },
   "file_extension": ".py",
   "mimetype": "text/x-python",
   "name": "python",
   "nbconvert_exporter": "python",
   "pygments_lexer": "ipython3",
   "version": "3.8.10"
  },
  "orig_nbformat": 4,
  "vscode": {
   "interpreter": {
    "hash": "1b8270010b70e837fe0de46eb723365a1e31fb6fc612b58e66883d87b37b19d6"
   }
  }
 },
 "nbformat": 4,
 "nbformat_minor": 2
}
