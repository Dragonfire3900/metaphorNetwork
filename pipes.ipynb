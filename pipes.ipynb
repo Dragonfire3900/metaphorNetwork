{
 "cells": [
  {
   "cell_type": "code",
   "execution_count": 11,
   "metadata": {},
   "outputs": [],
   "source": [
    "import nltk\n",
    "import itertools"
   ]
  },
  {
   "cell_type": "code",
   "execution_count": 15,
   "metadata": {},
   "outputs": [],
   "source": [
    "corpa = nltk.corpus.gutenberg.words()\n",
    "finder = nltk.collocations.BigramCollocationFinder.from_words(corpa)"
   ]
  },
  {
   "cell_type": "code",
   "execution_count": 16,
   "metadata": {},
   "outputs": [
    {
     "name": "stdout",
     "output_type": "stream",
     "text": [
      "('(~),', 'asterisk')\n",
      "('1000', '1997')\n",
      "('10000', '2004')\n",
      "('1500', '1998')\n",
      "('1739', 'University')\n"
     ]
    }
   ],
   "source": [
    "for bigram in itertools.islice(finder.above_score(nltk.collocations.BigramAssocMeasures.pmi, 0), 5):\n",
    "    print(bigram)"
   ]
  },
  {
   "cell_type": "code",
   "execution_count": 13,
   "metadata": {},
   "outputs": [],
   "source": [
    "test = finder\n",
    "test.apply_ngram_filter(lambda *x: 'air' not in x)"
   ]
  },
  {
   "cell_type": "code",
   "execution_count": 14,
   "metadata": {},
   "outputs": [
    {
     "name": "stdout",
     "output_type": "stream",
     "text": [
      "('air', '$?')\n",
      "('air', 'Burns')\n",
      "('air', 'Floats')\n",
      "('air', 'Frequenting')\n",
      "('air', 'Replenished')\n"
     ]
    }
   ],
   "source": [
    "for bigram in itertools.islice(finder.above_score(nltk.collocations.BigramAssocMeasures.pmi, 0), 5):\n",
    "    print(bigram)"
   ]
  },
  {
   "cell_type": "code",
   "execution_count": null,
   "metadata": {},
   "outputs": [],
   "source": []
  }
 ],
 "metadata": {
  "kernelspec": {
   "display_name": "venv",
   "language": "python",
   "name": "python3"
  },
  "language_info": {
   "codemirror_mode": {
    "name": "ipython",
    "version": 3
   },
   "file_extension": ".py",
   "mimetype": "text/x-python",
   "name": "python",
   "nbconvert_exporter": "python",
   "pygments_lexer": "ipython3",
   "version": "3.8.10"
  },
  "orig_nbformat": 4
 },
 "nbformat": 4,
 "nbformat_minor": 2
}
