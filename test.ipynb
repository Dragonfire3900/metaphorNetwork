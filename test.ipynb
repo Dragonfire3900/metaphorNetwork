{
 "cells": [
  {
   "cell_type": "code",
   "execution_count": 2,
   "metadata": {},
   "outputs": [],
   "source": [
    "from wordExplorer.thesa import getData"
   ]
  },
  {
   "cell_type": "code",
   "execution_count": 3,
   "metadata": {},
   "outputs": [],
   "source": [
    "res = getData(\"https://words.bighugelabs.com/api/2/{key}/{word}/json\", {'word': 'mint'}, 'bighugelabs')"
   ]
  },
  {
   "cell_type": "code",
   "execution_count": 5,
   "metadata": {},
   "outputs": [
    {
     "data": {
      "text/plain": [
       "{'adjective': {'sim': ['perfect']},\n",
       " 'noun': {'syn': ['batch',\n",
       "   'deal',\n",
       "   'flock',\n",
       "   'good deal',\n",
       "   'great deal',\n",
       "   'hatful',\n",
       "   'heap',\n",
       "   'lot',\n",
       "   'mass',\n",
       "   'mess',\n",
       "   'mickle',\n",
       "   'muckle',\n",
       "   'peck',\n",
       "   'pile',\n",
       "   'plenty',\n",
       "   'pot',\n",
       "   'quite a little',\n",
       "   'raft',\n",
       "   'sight',\n",
       "   'slew',\n",
       "   'spate',\n",
       "   'stack',\n",
       "   'tidy sum',\n",
       "   'wad',\n",
       "   'mint candy',\n",
       "   'candy',\n",
       "   'confect',\n",
       "   'herb',\n",
       "   'herbaceous plant',\n",
       "   'industrial plant',\n",
       "   'large indefinite amount',\n",
       "   'large indefinite quantity',\n",
       "   'plant',\n",
       "   'whole lot',\n",
       "   'whole slew',\n",
       "   'works']},\n",
       " 'verb': {'syn': ['coin',\n",
       "   'strike',\n",
       "   'create from raw material',\n",
       "   'create from raw stuff']}}"
      ]
     },
     "execution_count": 5,
     "metadata": {},
     "output_type": "execute_result"
    }
   ],
   "source": [
    "res.json()"
   ]
  },
  {
   "cell_type": "code",
   "execution_count": 4,
   "metadata": {},
   "outputs": [
    {
     "ename": "KeyError",
     "evalue": "'syn'",
     "output_type": "error",
     "traceback": [
      "\u001b[0;31m---------------------------------------------------------------------------\u001b[0m",
      "\u001b[0;31mKeyError\u001b[0m                                  Traceback (most recent call last)",
      "\u001b[1;32m/home/dragon/Dev/metaphorNetwork/test.ipynb Cell 3\u001b[0m in \u001b[0;36m<cell line: 1>\u001b[0;34m()\u001b[0m\n\u001b[0;32m----> <a href='vscode-notebook-cell://wsl%2Bubuntu/home/dragon/Dev/metaphorNetwork/test.ipynb#W2sdnNjb2RlLXJlbW90ZQ%3D%3D?line=0'>1</a>\u001b[0m [item \u001b[39mfor\u001b[39;00m group \u001b[39min\u001b[39;00m res\u001b[39m.\u001b[39mjson()\u001b[39m.\u001b[39mvalues() \u001b[39mfor\u001b[39;00m item \u001b[39min\u001b[39;00m group[\u001b[39m'\u001b[39m\u001b[39msyn\u001b[39m\u001b[39m'\u001b[39m]]\n",
      "\u001b[1;32m/home/dragon/Dev/metaphorNetwork/test.ipynb Cell 3\u001b[0m in \u001b[0;36m<listcomp>\u001b[0;34m(.0)\u001b[0m\n\u001b[0;32m----> <a href='vscode-notebook-cell://wsl%2Bubuntu/home/dragon/Dev/metaphorNetwork/test.ipynb#W2sdnNjb2RlLXJlbW90ZQ%3D%3D?line=0'>1</a>\u001b[0m [item \u001b[39mfor\u001b[39;00m group \u001b[39min\u001b[39;00m res\u001b[39m.\u001b[39mjson()\u001b[39m.\u001b[39mvalues() \u001b[39mfor\u001b[39;00m item \u001b[39min\u001b[39;00m group[\u001b[39m'\u001b[39;49m\u001b[39msyn\u001b[39;49m\u001b[39m'\u001b[39;49m]]\n",
      "\u001b[0;31mKeyError\u001b[0m: 'syn'"
     ]
    }
   ],
   "source": [
    "[item for group in res.json().values() for item in group['syn']]"
   ]
  },
  {
   "cell_type": "code",
   "execution_count": 16,
   "metadata": {},
   "outputs": [
    {
     "data": {
      "text/plain": [
       "['H2O',\n",
       " 'body of water',\n",
       " 'water system',\n",
       " 'water supply',\n",
       " 'urine',\n",
       " 'piss',\n",
       " 'pee',\n",
       " 'piddle',\n",
       " 'weewee',\n",
       " 'binary compound',\n",
       " 'body waste',\n",
       " 'element',\n",
       " 'excrement',\n",
       " 'excreta',\n",
       " 'excretion',\n",
       " 'excretory product',\n",
       " 'facility',\n",
       " 'food',\n",
       " 'installation',\n",
       " 'liquid',\n",
       " 'nutrient',\n",
       " 'thing']"
      ]
     },
     "execution_count": 16,
     "metadata": {},
     "output_type": "execute_result"
    }
   ],
   "source": [
    "[item for item in res.json()['noun']['syn']]"
   ]
  },
  {
   "cell_type": "code",
   "execution_count": 41,
   "metadata": {},
   "outputs": [
    {
     "data": {
      "text/plain": [
       "['an act of leaping into the air',\n",
       " 'the more favorable condition or position in a competition']"
      ]
     },
     "execution_count": 41,
     "metadata": {},
     "output_type": "execute_result"
    }
   ],
   "source": [
    "res.json()[1]['shortdef']"
   ]
  },
  {
   "cell_type": "code",
   "execution_count": 32,
   "metadata": {},
   "outputs": [
    {
     "data": {
      "text/plain": [
       "[3, 2, 2, 1, 1, 1, 1, 1, 1, 1]"
      ]
     },
     "execution_count": 32,
     "metadata": {},
     "output_type": "execute_result"
    }
   ],
   "source": [
    "[len(group['meta']['syns']) for group in res.json()]"
   ]
  },
  {
   "cell_type": "code",
   "execution_count": 36,
   "metadata": {},
   "outputs": [
    {
     "data": {
      "text/plain": [
       "{'id': 'jump jet',\n",
       " 'uuid': '34f8d678-7c15-4e87-b516-06e14fb40d97',\n",
       " 'src': 'CTcompile',\n",
       " 'section': 'alpha',\n",
       " 'stems': ['jump jet'],\n",
       " 'syns': [['bomber',\n",
       "   'fighter',\n",
       "   'torpedo bomber',\n",
       "   'warplane',\n",
       "   'aerospace plane',\n",
       "   'rocket plane',\n",
       "   'amphibian',\n",
       "   'seaplane',\n",
       "   'jet',\n",
       "   'jetliner',\n",
       "   'superjet',\n",
       "   'supersonic',\n",
       "   'supersonic transport',\n",
       "   'trijet',\n",
       "   'turbojet',\n",
       "   'turboprop',\n",
       "   'biplane',\n",
       "   'lightplane',\n",
       "   'tilt-rotor',\n",
       "   'towplane',\n",
       "   'trimotor',\n",
       "   'triplane',\n",
       "   'freighter',\n",
       "   'tanker',\n",
       "   'glider',\n",
       "   'sailplane',\n",
       "   'aerodyne',\n",
       "   'aircraft',\n",
       "   'air-cushion vehicle',\n",
       "   'airframe',\n",
       "   'airship',\n",
       "   'ship',\n",
       "   'tractor',\n",
       "   'airliner',\n",
       "   'air taxi',\n",
       "   'liner',\n",
       "   'aeroplane',\n",
       "   'airplane',\n",
       "   'plane']],\n",
       " 'ants': [],\n",
       " 'offensive': False}"
      ]
     },
     "execution_count": 36,
     "metadata": {},
     "output_type": "execute_result"
    }
   ],
   "source": [
    "res.json()[5]['meta']"
   ]
  },
  {
   "cell_type": "code",
   "execution_count": null,
   "metadata": {},
   "outputs": [],
   "source": []
  }
 ],
 "metadata": {
  "kernelspec": {
   "display_name": "venv",
   "language": "python",
   "name": "python3"
  },
  "language_info": {
   "codemirror_mode": {
    "name": "ipython",
    "version": 3
   },
   "file_extension": ".py",
   "mimetype": "text/x-python",
   "name": "python",
   "nbconvert_exporter": "python",
   "pygments_lexer": "ipython3",
   "version": "3.8.10"
  },
  "orig_nbformat": 4,
  "vscode": {
   "interpreter": {
    "hash": "1b8270010b70e837fe0de46eb723365a1e31fb6fc612b58e66883d87b37b19d6"
   }
  }
 },
 "nbformat": 4,
 "nbformat_minor": 2
}
